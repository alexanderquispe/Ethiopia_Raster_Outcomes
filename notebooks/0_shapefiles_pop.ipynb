{
 "cells": [
  {
   "cell_type": "code",
   "execution_count": 1,
   "metadata": {},
   "outputs": [],
   "source": [
    "import geopandas as gpd\n",
    "import pandas as pd, numpy as np\n",
    "\n",
    "import rasterio as rio\n",
    "import matplotlib.pyplot as plt\n",
    "import warnings\n",
    "\n",
    "warnings.filterwarnings(\"ignore\")\n",
    "\n",
    "from tqdm import tqdm\n",
    "from rasterio.mask import mask"
   ]
  },
  {
   "cell_type": "code",
   "execution_count": 2,
   "metadata": {},
   "outputs": [],
   "source": [
    "dist = \"../Data/gjson/adm_3.geojson\"\n",
    "tiff = \"../Data/Raster/Population/eth_ppp_2020_constrained.tif\""
   ]
  },
  {
   "cell_type": "code",
   "execution_count": 3,
   "metadata": {},
   "outputs": [
    {
     "data": {
      "text/html": [
       "<div>\n",
       "<style scoped>\n",
       "    .dataframe tbody tr th:only-of-type {\n",
       "        vertical-align: middle;\n",
       "    }\n",
       "\n",
       "    .dataframe tbody tr th {\n",
       "        vertical-align: top;\n",
       "    }\n",
       "\n",
       "    .dataframe thead th {\n",
       "        text-align: right;\n",
       "    }\n",
       "</style>\n",
       "<table border=\"1\" class=\"dataframe\">\n",
       "  <thead>\n",
       "    <tr style=\"text-align: right;\">\n",
       "      <th></th>\n",
       "      <th>id</th>\n",
       "      <th>fnid</th>\n",
       "      <th>name</th>\n",
       "      <th>unit_type_code</th>\n",
       "      <th>parent_id</th>\n",
       "      <th>start_date</th>\n",
       "      <th>end_date</th>\n",
       "      <th>country_code</th>\n",
       "      <th>fewsnet_region</th>\n",
       "      <th>geographic_group</th>\n",
       "      <th>...</th>\n",
       "      <th>layer_id</th>\n",
       "      <th>layer_name</th>\n",
       "      <th>geographicunitsetversion_name</th>\n",
       "      <th>zone_type</th>\n",
       "      <th>urban_rural</th>\n",
       "      <th>start_month</th>\n",
       "      <th>area</th>\n",
       "      <th>attributes</th>\n",
       "      <th>fid</th>\n",
       "      <th>geometry</th>\n",
       "    </tr>\n",
       "  </thead>\n",
       "  <tbody>\n",
       "    <tr>\n",
       "      <th>667</th>\n",
       "      <td>223463</td>\n",
       "      <td>ET2023A3041805</td>\n",
       "      <td>Sayo</td>\n",
       "      <td>admin3</td>\n",
       "      <td>222739</td>\n",
       "      <td>2023-10-01</td>\n",
       "      <td>None</td>\n",
       "      <td>ET</td>\n",
       "      <td>East Africa</td>\n",
       "      <td>Eastern Africa</td>\n",
       "      <td>...</td>\n",
       "      <td>4697</td>\n",
       "      <td>ET_Admin3_2023</td>\n",
       "      <td>Ethiopia FEWS NET Admin Boundaries: From 10/01...</td>\n",
       "      <td>None</td>\n",
       "      <td>None</td>\n",
       "      <td>None</td>\n",
       "      <td>1123.0</td>\n",
       "      <td>{'FNID': 'ET2023A3041805', 'ADMIN0': 'Ethiopia...</td>\n",
       "      <td>667</td>\n",
       "      <td>MULTIPOLYGON (((34.80300 8.70800, 34.80256 8.7...</td>\n",
       "    </tr>\n",
       "  </tbody>\n",
       "</table>\n",
       "<p>1 rows × 32 columns</p>\n",
       "</div>"
      ],
      "text/plain": [
       "         id            fnid  name unit_type_code  parent_id  start_date  \\\n",
       "667  223463  ET2023A3041805  Sayo         admin3     222739  2023-10-01   \n",
       "\n",
       "    end_date country_code fewsnet_region geographic_group  ... layer_id  \\\n",
       "667     None           ET    East Africa   Eastern Africa  ...     4697   \n",
       "\n",
       "         layer_name                      geographicunitsetversion_name  \\\n",
       "667  ET_Admin3_2023  Ethiopia FEWS NET Admin Boundaries: From 10/01...   \n",
       "\n",
       "    zone_type urban_rural start_month    area  \\\n",
       "667      None        None        None  1123.0   \n",
       "\n",
       "                                            attributes  fid  \\\n",
       "667  {'FNID': 'ET2023A3041805', 'ADMIN0': 'Ethiopia...  667   \n",
       "\n",
       "                                              geometry  \n",
       "667  MULTIPOLYGON (((34.80300 8.70800, 34.80256 8.7...  \n",
       "\n",
       "[1 rows x 32 columns]"
      ]
     },
     "execution_count": 3,
     "metadata": {},
     "output_type": "execute_result"
    }
   ],
   "source": [
    "dist_gdf = gpd.read_file(dist)\n",
    "sample = dist_gdf.sample(1)\n",
    "sample"
   ]
  },
  {
   "cell_type": "code",
   "execution_count": 4,
   "metadata": {},
   "outputs": [
    {
     "data": {
      "text/plain": [
       "Index(['id', 'fnid', 'name', 'unit_type_code', 'parent_id', 'start_date',\n",
       "       'end_date', 'country_code', 'fewsnet_region', 'geographic_group',\n",
       "       'full_name', 'es_name', 'fr_name', 'pt_name', 'ar_name', 'unit_type',\n",
       "       'country', 'admin_0', 'admin_1', 'admin_2', 'admin_3', 'admin_4',\n",
       "       'layer_id', 'layer_name', 'geographicunitsetversion_name', 'zone_type',\n",
       "       'urban_rural', 'start_month', 'area', 'attributes', 'fid', 'geometry'],\n",
       "      dtype='object')"
      ]
     },
     "execution_count": 4,
     "metadata": {},
     "output_type": "execute_result"
    }
   ],
   "source": [
    "dist_gdf.columns"
   ]
  },
  {
   "cell_type": "code",
   "execution_count": 5,
   "metadata": {},
   "outputs": [],
   "source": [
    "cols_dataref = [\"admin_0\", \"admin_1\", \"admin_2\", \"admin_3\"]\n",
    "metrics = [np.mean, np.std, np.sum]\n",
    "metric_value = \"population\"\n",
    "with rio.open(tiff) as src:\n",
    "    out_image, out_transform = mask(src, sample.geometry, crop=True)\n",
    "\n",
    "ref_df = sample[cols_dataref]\n",
    "values = out_image.flatten()\n",
    "rows, cols = np.indices(out_image.shape[-2:])\n",
    "x, y = rio.transform.xy(out_transform, rows.flatten(), cols.flatten())\n",
    "data = {\"x\": x, \"y\": y, \"z\": values}\n",
    "data = pd.DataFrame(data).query(\"z>0\").dropna()"
   ]
  },
  {
   "cell_type": "code",
   "execution_count": 6,
   "metadata": {},
   "outputs": [
    {
     "data": {
      "text/html": [
       "<div>\n",
       "<style scoped>\n",
       "    .dataframe tbody tr th:only-of-type {\n",
       "        vertical-align: middle;\n",
       "    }\n",
       "\n",
       "    .dataframe tbody tr th {\n",
       "        vertical-align: top;\n",
       "    }\n",
       "\n",
       "    .dataframe thead th {\n",
       "        text-align: right;\n",
       "    }\n",
       "</style>\n",
       "<table border=\"1\" class=\"dataframe\">\n",
       "  <thead>\n",
       "    <tr style=\"text-align: right;\">\n",
       "      <th></th>\n",
       "      <th>admin_0</th>\n",
       "      <th>admin_1</th>\n",
       "      <th>admin_2</th>\n",
       "      <th>admin_3</th>\n",
       "      <th>population_mean</th>\n",
       "      <th>population_sd</th>\n",
       "      <th>population_sum</th>\n",
       "    </tr>\n",
       "  </thead>\n",
       "  <tbody>\n",
       "    <tr>\n",
       "      <th>667</th>\n",
       "      <td>Ethiopia</td>\n",
       "      <td>Oromia</td>\n",
       "      <td>Kelem</td>\n",
       "      <td>Sayo</td>\n",
       "      <td>16.976933</td>\n",
       "      <td>8.395747</td>\n",
       "      <td>187017.890625</td>\n",
       "    </tr>\n",
       "  </tbody>\n",
       "</table>\n",
       "</div>"
      ],
      "text/plain": [
       "      admin_0 admin_1 admin_2 admin_3  population_mean  population_sd  \\\n",
       "667  Ethiopia  Oromia   Kelem    Sayo        16.976933       8.395747   \n",
       "\n",
       "     population_sum  \n",
       "667   187017.890625  "
      ]
     },
     "execution_count": 6,
     "metadata": {},
     "output_type": "execute_result"
    }
   ],
   "source": [
    "stats = data[\"z\"].agg(metrics).values.flatten()\n",
    "(\n",
    "    ref_df[f\"{metric_value}_mean\"],\n",
    "    ref_df[f\"{metric_value}_sd\"],\n",
    "    ref_df[f\"{metric_value}_sum\"],\n",
    ") = stats\n",
    "ref_df"
   ]
  },
  {
   "cell_type": "code",
   "execution_count": 7,
   "metadata": {},
   "outputs": [
    {
     "data": {
      "text/plain": [
       "<Axes: >"
      ]
     },
     "execution_count": 7,
     "metadata": {},
     "output_type": "execute_result"
    },
    {
     "data": {
      "image/png": "[encoded data removed]",
      "text/plain": [
       "<Figure size 640x480 with 1 Axes>"
      ]
     },
     "metadata": {},
     "output_type": "display_data"
    }
   ],
   "source": [
    "def get_data_raster_shapefile(\n",
    "    path_tiff: str = tiff,\n",
    "    shp_gdf: gpd.GeoDataFrame = sample,\n",
    "    cols_dataref=[\"admin_0\", \"admin_1\", \"admin_2\", \"admin_3\"],\n",
    "    metrics=[np.mean, np.std, np.sum],\n",
    "    metric_value=\"population\",\n",
    "):\n",
    "\n",
    "    with rio.open(path_tiff) as src:\n",
    "        out_image, out_transform = mask(src, shp_gdf.geometry, crop=True)\n",
    "    temp_gdf = shp_gdf.copy()\n",
    "    shp_gdf = shp_gdf[cols_dataref]\n",
    "    values = out_image.flatten()\n",
    "    rows, cols = np.indices(out_image.shape[-2:])\n",
    "    x, y = rio.transform.xy(out_transform, rows.flatten(), cols.flatten())\n",
    "    data = {\"x\": x, \"y\": y, \"z\": values}\n",
    "    data = pd.DataFrame(data).query(\"z>0\").dropna()\n",
    "    stats = data[\"z\"].agg(metrics).values.flatten()\n",
    "    (\n",
    "        shp_gdf[f\"{metric_value}_mean\"],\n",
    "        shp_gdf[f\"{metric_value}_sd\"],\n",
    "        shp_gdf[f\"{metric_value}_sum\"],\n",
    "    ) = stats\n",
    "    return shp_gdf, (temp_gdf, out_image, out_transform)\n",
    "\n",
    "result, metadata = get_data_raster_shapefile(shp_gdf=dist_gdf.sample(1))\n",
    "# result\n",
    "metadata[0].plot()"
   ]
  },
  {
   "cell_type": "code",
   "execution_count": 3,
   "metadata": {},
   "outputs": [
    {
     "ename": "TypeError",
     "evalue": "ufunc 'isnan' not supported for the input types, and the inputs could not be safely coerced to any supported types according to the casting rule ''safe''",
     "output_type": "error",
     "traceback": [
      "\u001b[1;31m---------------------------------------------------------------------------\u001b[0m",
      "\u001b[1;31mTypeError\u001b[0m                                 Traceback (most recent call last)",
      "Cell \u001b[1;32mIn[3], line 7\u001b[0m\n\u001b[0;32m      4\u001b[0m array_numeros \u001b[38;5;241m=\u001b[39m np\u001b[38;5;241m.\u001b[39marray([\u001b[38;5;241m1\u001b[39m, \u001b[38;5;241m2\u001b[39m, \u001b[38;5;241m3\u001b[39m, \u001b[38;5;28;01mNone\u001b[39;00m, \u001b[38;5;241m5\u001b[39m, \u001b[38;5;241m6\u001b[39m, np\u001b[38;5;241m.\u001b[39mnan, \u001b[38;5;241m8\u001b[39m, \u001b[38;5;241m9\u001b[39m, \u001b[38;5;241m10\u001b[39m])\n\u001b[0;32m      6\u001b[0m \u001b[38;5;66;03m# Filtrar los valores mayores que 0 y no sean None o NaN\u001b[39;00m\n\u001b[1;32m----> 7\u001b[0m array_filtrado \u001b[38;5;241m=\u001b[39m array_numeros[\u001b[38;5;241m~\u001b[39m\u001b[43mnp\u001b[49m\u001b[38;5;241;43m.\u001b[39;49m\u001b[43misnan\u001b[49m\u001b[43m(\u001b[49m\u001b[43marray_numeros\u001b[49m\u001b[43m)\u001b[49m]\n\u001b[0;32m      9\u001b[0m \u001b[38;5;66;03m# Calcular las métricas para el array filtrado\u001b[39;00m\n\u001b[0;32m     10\u001b[0m metrics \u001b[38;5;241m=\u001b[39m [np\u001b[38;5;241m.\u001b[39mmean, np\u001b[38;5;241m.\u001b[39mstd, np\u001b[38;5;241m.\u001b[39msum]\n",
      "\u001b[1;31mTypeError\u001b[0m: ufunc 'isnan' not supported for the input types, and the inputs could not be safely coerced to any supported types according to the casting rule ''safe''"
     ]
    }
   ],
   "source": [
    "import numpy as np\n",
    "\n",
    "# Definir el array de números\n",
    "array_numeros = np.array([1, 2, 3, None, 5, 6, np.nan, 8, 9, 10])\n",
    "\n",
    "# Filtrar los valores mayores que 0 y no sean None o NaN\n",
    "array_filtrado = array_numeros[~np.isnan(array_numeros)]\n",
    "\n",
    "# Calcular las métricas para el array filtrado\n",
    "metrics = [np.mean, np.std, np.sum]\n",
    "resultados = [metric(array_filtrado) for metric in metrics]\n",
    "\n",
    "# Imprimir los resultados\n",
    "for metric, resultado in zip(metrics, resultados):\n",
    "    print(f\"{metric.__name__}: {resultado}\")\n"
   ]
  },
  {
   "cell_type": "code",
   "execution_count": 6,
   "metadata": {},
   "outputs": [
    {
     "data": {
      "text/plain": [
       "[5.5, 3.122498999199199, 44.0]"
      ]
     },
     "execution_count": 6,
     "metadata": {},
     "output_type": "execute_result"
    }
   ],
   "source": [
    "import numpy as np\n",
    "\n",
    "# Definir el array de números\n",
    "array_numeros = np.array([1, 2, 3, None, 5, 6, np.nan, 8, 9, 10]).astype(float)\n",
    "\n",
    "# Filtrar los valores None y NaN\n",
    "array_filtrado = array_numeros[~np.isnan(array_numeros)]  # Convertir a float antes de verificar NaN\n",
    "\n",
    "# Filtrar los valores mayores que 0\n",
    "array_filtrado = array_filtrado[array_filtrado > 0]\n",
    "\n",
    "# Calcular las métricas para el array filtrado\n",
    "metrics = [np.mean, np.std, np.sum]\n",
    "resultados = [metric(array_filtrado) for metric in metrics]\n",
    "\n",
    "# Imprimir los resultados\n",
    "# for metric, resultado in zip(metrics, resultados):\n",
    "#     print(f\"{metric.__name__}: {resultado}\")\n",
    "\n",
    "resultados"
   ]
  },
  {
   "cell_type": "code",
   "execution_count": 8,
   "metadata": {},
   "outputs": [
    {
     "name": "stderr",
     "output_type": "stream",
     "text": [
      "  0%|          | 0/1141 [00:00<?, ?it/s]"
     ]
    },
    {
     "name": "stderr",
     "output_type": "stream",
     "text": [
      "100%|██████████| 1141/1141 [28:54<00:00,  1.52s/it] \n"
     ]
    },
    {
     "data": {
      "text/html": [
       "<div>\n",
       "<style scoped>\n",
       "    .dataframe tbody tr th:only-of-type {\n",
       "        vertical-align: middle;\n",
       "    }\n",
       "\n",
       "    .dataframe tbody tr th {\n",
       "        vertical-align: top;\n",
       "    }\n",
       "\n",
       "    .dataframe thead th {\n",
       "        text-align: right;\n",
       "    }\n",
       "</style>\n",
       "<table border=\"1\" class=\"dataframe\">\n",
       "  <thead>\n",
       "    <tr style=\"text-align: right;\">\n",
       "      <th></th>\n",
       "      <th>admin_0</th>\n",
       "      <th>admin_1</th>\n",
       "      <th>admin_2</th>\n",
       "      <th>admin_3</th>\n",
       "      <th>population_mean</th>\n",
       "      <th>population_sd</th>\n",
       "      <th>population_sum</th>\n",
       "    </tr>\n",
       "  </thead>\n",
       "  <tbody>\n",
       "    <tr>\n",
       "      <th>0</th>\n",
       "      <td>Ethiopia</td>\n",
       "      <td>Tigray</td>\n",
       "      <td>Northwest Tigray</td>\n",
       "      <td>Tahtay Adiyabo</td>\n",
       "      <td>4.212515</td>\n",
       "      <td>1.767040</td>\n",
       "      <td>87607.679688</td>\n",
       "    </tr>\n",
       "    <tr>\n",
       "      <th>1</th>\n",
       "      <td>Ethiopia</td>\n",
       "      <td>Tigray</td>\n",
       "      <td>Northwest Tigray</td>\n",
       "      <td>Zana</td>\n",
       "      <td>7.356061</td>\n",
       "      <td>2.275458</td>\n",
       "      <td>62916.386719</td>\n",
       "    </tr>\n",
       "    <tr>\n",
       "      <th>2</th>\n",
       "      <td>Ethiopia</td>\n",
       "      <td>Tigray</td>\n",
       "      <td>Northwest Tigray</td>\n",
       "      <td>Tahtay Koraro</td>\n",
       "      <td>6.054163</td>\n",
       "      <td>2.649188</td>\n",
       "      <td>96479.140625</td>\n",
       "    </tr>\n",
       "    <tr>\n",
       "      <th>3</th>\n",
       "      <td>Ethiopia</td>\n",
       "      <td>Tigray</td>\n",
       "      <td>Northwest Tigray</td>\n",
       "      <td>Asgede</td>\n",
       "      <td>5.635667</td>\n",
       "      <td>3.141389</td>\n",
       "      <td>120563.828125</td>\n",
       "    </tr>\n",
       "    <tr>\n",
       "      <th>4</th>\n",
       "      <td>Ethiopia</td>\n",
       "      <td>Tigray</td>\n",
       "      <td>Northwest Tigray</td>\n",
       "      <td>Tselemti</td>\n",
       "      <td>6.280854</td>\n",
       "      <td>3.255395</td>\n",
       "      <td>94124.882812</td>\n",
       "    </tr>\n",
       "    <tr>\n",
       "      <th>...</th>\n",
       "      <td>...</td>\n",
       "      <td>...</td>\n",
       "      <td>...</td>\n",
       "      <td>...</td>\n",
       "      <td>...</td>\n",
       "      <td>...</td>\n",
       "      <td>...</td>\n",
       "    </tr>\n",
       "    <tr>\n",
       "      <th>1136</th>\n",
       "      <td>Ethiopia</td>\n",
       "      <td>Central Ethiopia</td>\n",
       "      <td>Kembata</td>\n",
       "      <td>Adilo</td>\n",
       "      <td>5.317826</td>\n",
       "      <td>5.109311</td>\n",
       "      <td>16070.469727</td>\n",
       "    </tr>\n",
       "    <tr>\n",
       "      <th>1137</th>\n",
       "      <td>Ethiopia</td>\n",
       "      <td>Central Ethiopia</td>\n",
       "      <td>Kembata</td>\n",
       "      <td>Shinshincho town</td>\n",
       "      <td>31.200237</td>\n",
       "      <td>17.871035</td>\n",
       "      <td>19094.544922</td>\n",
       "    </tr>\n",
       "    <tr>\n",
       "      <th>1138</th>\n",
       "      <td>Ethiopia</td>\n",
       "      <td>Central Ethiopia</td>\n",
       "      <td>Kembata</td>\n",
       "      <td>Hadero town</td>\n",
       "      <td>34.539196</td>\n",
       "      <td>22.393435</td>\n",
       "      <td>33295.785156</td>\n",
       "    </tr>\n",
       "    <tr>\n",
       "      <th>1139</th>\n",
       "      <td>Ethiopia</td>\n",
       "      <td>Central Ethiopia</td>\n",
       "      <td>Mareko</td>\n",
       "      <td>Mareko</td>\n",
       "      <td>9.086466</td>\n",
       "      <td>4.936671</td>\n",
       "      <td>81460.164062</td>\n",
       "    </tr>\n",
       "    <tr>\n",
       "      <th>1140</th>\n",
       "      <td>Ethiopia</td>\n",
       "      <td>Central Ethiopia</td>\n",
       "      <td>Tembaro</td>\n",
       "      <td>Tembaro</td>\n",
       "      <td>16.070570</td>\n",
       "      <td>7.212621</td>\n",
       "      <td>176551.281250</td>\n",
       "    </tr>\n",
       "  </tbody>\n",
       "</table>\n",
       "<p>1141 rows × 7 columns</p>\n",
       "</div>"
      ],
      "text/plain": [
       "       admin_0           admin_1           admin_2           admin_3  \\\n",
       "0     Ethiopia            Tigray  Northwest Tigray    Tahtay Adiyabo   \n",
       "1     Ethiopia            Tigray  Northwest Tigray              Zana   \n",
       "2     Ethiopia            Tigray  Northwest Tigray     Tahtay Koraro   \n",
       "3     Ethiopia            Tigray  Northwest Tigray            Asgede   \n",
       "4     Ethiopia            Tigray  Northwest Tigray          Tselemti   \n",
       "...        ...               ...               ...               ...   \n",
       "1136  Ethiopia  Central Ethiopia           Kembata             Adilo   \n",
       "1137  Ethiopia  Central Ethiopia           Kembata  Shinshincho town   \n",
       "1138  Ethiopia  Central Ethiopia           Kembata       Hadero town   \n",
       "1139  Ethiopia  Central Ethiopia            Mareko            Mareko   \n",
       "1140  Ethiopia  Central Ethiopia           Tembaro           Tembaro   \n",
       "\n",
       "      population_mean  population_sd  population_sum  \n",
       "0            4.212515       1.767040    87607.679688  \n",
       "1            7.356061       2.275458    62916.386719  \n",
       "2            6.054163       2.649188    96479.140625  \n",
       "3            5.635667       3.141389   120563.828125  \n",
       "4            6.280854       3.255395    94124.882812  \n",
       "...               ...            ...             ...  \n",
       "1136         5.317826       5.109311    16070.469727  \n",
       "1137        31.200237      17.871035    19094.544922  \n",
       "1138        34.539196      22.393435    33295.785156  \n",
       "1139         9.086466       4.936671    81460.164062  \n",
       "1140        16.070570       7.212621   176551.281250  \n",
       "\n",
       "[1141 rows x 7 columns]"
      ]
     },
     "execution_count": 8,
     "metadata": {},
     "output_type": "execute_result"
    }
   ],
   "source": [
    "# total_rows = len(dist_gdf.sample(10))\n",
    "total_rows = len(dist_gdf)\n",
    "result_df = pd.DataFrame()\n",
    "for row in tqdm(range(total_rows)):\n",
    "    # print(row)\n",
    "    row_gdf = dist_gdf.iloc[row:row+1]\n",
    "    result, metadata = get_data_raster_shapefile(shp_gdf=row_gdf)\n",
    "    result_df = pd.concat((result_df, result))\n",
    "result_df\n"
   ]
  },
  {
   "cell_type": "code",
   "execution_count": 9,
   "metadata": {},
   "outputs": [],
   "source": [
    "result_df.to_csv('../output/population/pop.csv')"
   ]
  }
 ],
 "metadata": {
  "kernelspec": {
   "display_name": "etiopia_outcomes-_zp3n1XV",
   "language": "python",
   "name": "python3"
  },
  "language_info": {
   "codemirror_mode": {
    "name": "ipython",
    "version": 3
   },
   "file_extension": ".py",
   "mimetype": "text/x-python",
   "name": "python",
   "nbconvert_exporter": "python",
   "pygments_lexer": "ipython3",
   "version": "3.10.9"
  }
 },
 "nbformat": 4,
 "nbformat_minor": 2
}
