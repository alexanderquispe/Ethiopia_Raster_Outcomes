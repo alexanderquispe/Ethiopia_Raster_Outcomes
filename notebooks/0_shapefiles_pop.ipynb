{
 "cells": [
  {
   "cell_type": "code",
   "execution_count": 1,
   "metadata": {},
   "outputs": [],
   "source": [
    "import geopandas as gpd\n",
    "import pandas as pd, numpy as np\n",
    "\n",
    "import rasterio as rio\n",
    "import matplotlib.pyplot as plt\n",
    "import warnings\n",
    "\n",
    "warnings.filterwarnings(\"ignore\")\n",
    "\n",
    "from tqdm import tqdm\n",
    "from rasterio.mask import mask"
   ]
  },
  {
   "cell_type": "code",
   "execution_count": 2,
   "metadata": {},
   "outputs": [],
   "source": [
    "dist = \"../Data/gjson/adm_3.geojson\"\n",
    "tiff = \"../Data/Raster/Population/eth_ppp_2020_constrained.tif\""
   ]
  },
  {
   "cell_type": "code",
   "execution_count": 3,
   "metadata": {},
   "outputs": [
    {
     "data": {
      "text/html": [
       "<div>\n",
       "<style scoped>\n",
       "    .dataframe tbody tr th:only-of-type {\n",
       "        vertical-align: middle;\n",
       "    }\n",
       "\n",
       "    .dataframe tbody tr th {\n",
       "        vertical-align: top;\n",
       "    }\n",
       "\n",
       "    .dataframe thead th {\n",
       "        text-align: right;\n",
       "    }\n",
       "</style>\n",
       "<table border=\"1\" class=\"dataframe\">\n",
       "  <thead>\n",
       "    <tr style=\"text-align: right;\">\n",
       "      <th></th>\n",
       "      <th>id</th>\n",
       "      <th>fnid</th>\n",
       "      <th>name</th>\n",
       "      <th>unit_type_code</th>\n",
       "      <th>parent_id</th>\n",
       "      <th>start_date</th>\n",
       "      <th>end_date</th>\n",
       "      <th>country_code</th>\n",
       "      <th>fewsnet_region</th>\n",
       "      <th>geographic_group</th>\n",
       "      <th>...</th>\n",
       "      <th>layer_id</th>\n",
       "      <th>layer_name</th>\n",
       "      <th>geographicunitsetversion_name</th>\n",
       "      <th>zone_type</th>\n",
       "      <th>urban_rural</th>\n",
       "      <th>start_month</th>\n",
       "      <th>area</th>\n",
       "      <th>attributes</th>\n",
       "      <th>fid</th>\n",
       "      <th>geometry</th>\n",
       "    </tr>\n",
       "  </thead>\n",
       "  <tbody>\n",
       "    <tr>\n",
       "      <th>1039</th>\n",
       "      <td>223835</td>\n",
       "      <td>ET2023A3181301</td>\n",
       "      <td>Karat town</td>\n",
       "      <td>admin3</td>\n",
       "      <td>222778</td>\n",
       "      <td>2023-10-01</td>\n",
       "      <td>None</td>\n",
       "      <td>ET</td>\n",
       "      <td>East Africa</td>\n",
       "      <td>Eastern Africa</td>\n",
       "      <td>...</td>\n",
       "      <td>4697</td>\n",
       "      <td>ET_Admin3_2023</td>\n",
       "      <td>Ethiopia FEWS NET Admin Boundaries: From 10/01...</td>\n",
       "      <td>None</td>\n",
       "      <td>None</td>\n",
       "      <td>None</td>\n",
       "      <td>3.0</td>\n",
       "      <td>{'FNID': 'ET2023A3181301', 'ADMIN0': 'Ethiopia...</td>\n",
       "      <td>1039</td>\n",
       "      <td>POLYGON ((37.44447 5.32454, 37.44400 5.32300, ...</td>\n",
       "    </tr>\n",
       "  </tbody>\n",
       "</table>\n",
       "<p>1 rows × 32 columns</p>\n",
       "</div>"
      ],
      "text/plain": [
       "          id            fnid        name unit_type_code  parent_id  \\\n",
       "1039  223835  ET2023A3181301  Karat town         admin3     222778   \n",
       "\n",
       "      start_date end_date country_code fewsnet_region geographic_group  ...  \\\n",
       "1039  2023-10-01     None           ET    East Africa   Eastern Africa  ...   \n",
       "\n",
       "     layer_id      layer_name  \\\n",
       "1039     4697  ET_Admin3_2023   \n",
       "\n",
       "                          geographicunitsetversion_name zone_type urban_rural  \\\n",
       "1039  Ethiopia FEWS NET Admin Boundaries: From 10/01...      None        None   \n",
       "\n",
       "     start_month area                                         attributes  \\\n",
       "1039        None  3.0  {'FNID': 'ET2023A3181301', 'ADMIN0': 'Ethiopia...   \n",
       "\n",
       "       fid                                           geometry  \n",
       "1039  1039  POLYGON ((37.44447 5.32454, 37.44400 5.32300, ...  \n",
       "\n",
       "[1 rows x 32 columns]"
      ]
     },
     "execution_count": 3,
     "metadata": {},
     "output_type": "execute_result"
    }
   ],
   "source": [
    "dist_gdf = gpd.read_file(dist)\n",
    "sample = dist_gdf.sample(1)\n",
    "sample"
   ]
  },
  {
   "cell_type": "code",
   "execution_count": 4,
   "metadata": {},
   "outputs": [
    {
     "data": {
      "text/plain": [
       "Index(['id', 'fnid', 'name', 'unit_type_code', 'parent_id', 'start_date',\n",
       "       'end_date', 'country_code', 'fewsnet_region', 'geographic_group',\n",
       "       'full_name', 'es_name', 'fr_name', 'pt_name', 'ar_name', 'unit_type',\n",
       "       'country', 'admin_0', 'admin_1', 'admin_2', 'admin_3', 'admin_4',\n",
       "       'layer_id', 'layer_name', 'geographicunitsetversion_name', 'zone_type',\n",
       "       'urban_rural', 'start_month', 'area', 'attributes', 'fid', 'geometry'],\n",
       "      dtype='object')"
      ]
     },
     "execution_count": 4,
     "metadata": {},
     "output_type": "execute_result"
    }
   ],
   "source": [
    "dist_gdf.columns"
   ]
  },
  {
   "cell_type": "code",
   "execution_count": 5,
   "metadata": {},
   "outputs": [],
   "source": [
    "cols_dataref = [\n",
    "    \"id\",\n",
    "    \"fnid\",\n",
    "    \"parent_id\",\n",
    "    \"admin_0\",\n",
    "    \"admin_1\",\n",
    "    \"admin_2\",\n",
    "    \"admin_3\",\n",
    "]\n",
    "\n",
    "metrics = [np.mean, np.std, np.sum]\n",
    "\n",
    "metric_value = \"population\"\n",
    "\n",
    "with rio.open(tiff) as src:\n",
    "\n",
    "    out_image, out_transform = mask(src, sample.geometry, crop=True)\n",
    "\n",
    "\n",
    "ref_df = sample[cols_dataref]\n",
    "\n",
    "values = out_image.flatten()\n",
    "\n",
    "rows, cols = np.indices(out_image.shape[-2:])\n",
    "\n",
    "x, y = rio.transform.xy(out_transform, rows.flatten(), cols.flatten())\n",
    "\n",
    "data = {\"x\": x, \"y\": y, \"z\": values}\n",
    "\n",
    "data = pd.DataFrame(data).query(\"z>0\").dropna()"
   ]
  },
  {
   "cell_type": "code",
   "execution_count": 6,
   "metadata": {},
   "outputs": [
    {
     "data": {
      "text/html": [
       "<div>\n",
       "<style scoped>\n",
       "    .dataframe tbody tr th:only-of-type {\n",
       "        vertical-align: middle;\n",
       "    }\n",
       "\n",
       "    .dataframe tbody tr th {\n",
       "        vertical-align: top;\n",
       "    }\n",
       "\n",
       "    .dataframe thead th {\n",
       "        text-align: right;\n",
       "    }\n",
       "</style>\n",
       "<table border=\"1\" class=\"dataframe\">\n",
       "  <thead>\n",
       "    <tr style=\"text-align: right;\">\n",
       "      <th></th>\n",
       "      <th>id</th>\n",
       "      <th>fnid</th>\n",
       "      <th>parent_id</th>\n",
       "      <th>admin_0</th>\n",
       "      <th>admin_1</th>\n",
       "      <th>admin_2</th>\n",
       "      <th>admin_3</th>\n",
       "      <th>population_mean</th>\n",
       "      <th>population_sd</th>\n",
       "      <th>population_sum</th>\n",
       "    </tr>\n",
       "  </thead>\n",
       "  <tbody>\n",
       "    <tr>\n",
       "      <th>1039</th>\n",
       "      <td>223835</td>\n",
       "      <td>ET2023A3181301</td>\n",
       "      <td>222778</td>\n",
       "      <td>Ethiopia</td>\n",
       "      <td>South Ethiopia</td>\n",
       "      <td>Konso</td>\n",
       "      <td>Karat town</td>\n",
       "      <td>60.405293</td>\n",
       "      <td>27.208727</td>\n",
       "      <td>12805.921875</td>\n",
       "    </tr>\n",
       "  </tbody>\n",
       "</table>\n",
       "</div>"
      ],
      "text/plain": [
       "          id            fnid  parent_id   admin_0         admin_1 admin_2  \\\n",
       "1039  223835  ET2023A3181301     222778  Ethiopia  South Ethiopia   Konso   \n",
       "\n",
       "         admin_3  population_mean  population_sd  population_sum  \n",
       "1039  Karat town        60.405293      27.208727    12805.921875  "
      ]
     },
     "execution_count": 6,
     "metadata": {},
     "output_type": "execute_result"
    }
   ],
   "source": [
    "stats = data[\"z\"].agg(metrics).values.flatten()\n",
    "(\n",
    "    ref_df[f\"{metric_value}_mean\"],\n",
    "    ref_df[f\"{metric_value}_sd\"],\n",
    "    ref_df[f\"{metric_value}_sum\"],\n",
    ") = stats\n",
    "ref_df"
   ]
  },
  {
   "cell_type": "code",
   "execution_count": 7,
   "metadata": {},
   "outputs": [
    {
     "data": {
      "text/plain": [
       "<Axes: >"
      ]
     },
     "execution_count": 7,
     "metadata": {},
     "output_type": "execute_result"
    },
    {
     "data": {
      "image/png": "[encoded data removed]",
      "text/plain": [
       "<Figure size 640x480 with 1 Axes>"
      ]
     },
     "metadata": {},
     "output_type": "display_data"
    }
   ],
   "source": [
    "def get_data_raster_shapefile(\n",
    "    path_tiff: str = tiff,\n",
    "    shp_gdf: gpd.GeoDataFrame = sample,\n",
    "    cols_dataref=cols_dataref,\n",
    "    metrics=[np.mean, np.std, np.sum],\n",
    "    metric_value=\"population\",\n",
    "):\n",
    "\n",
    "    with rio.open(path_tiff) as src:\n",
    "        out_image, out_transform = mask(src, shp_gdf.geometry, crop=True)\n",
    "    temp_gdf = shp_gdf.copy()\n",
    "    shp_gdf = shp_gdf[cols_dataref]\n",
    "    values = out_image.flatten()\n",
    "    rows, cols = np.indices(out_image.shape[-2:])\n",
    "    x, y = rio.transform.xy(out_transform, rows.flatten(), cols.flatten())\n",
    "    data = {\"x\": x, \"y\": y, \"z\": values}\n",
    "    data = pd.DataFrame(data).query(\"z>0\").dropna()\n",
    "    stats = data[\"z\"].agg(metrics).values.flatten()\n",
    "    (\n",
    "        shp_gdf[f\"{metric_value}_mean\"],\n",
    "        shp_gdf[f\"{metric_value}_sd\"],\n",
    "        shp_gdf[f\"{metric_value}_sum\"],\n",
    "    ) = stats\n",
    "    return shp_gdf, (temp_gdf, out_image, out_transform)\n",
    "\n",
    "\n",
    "result, metadata = get_data_raster_shapefile(shp_gdf=dist_gdf.sample(1))\n",
    "# result\n",
    "metadata[0].plot()"
   ]
  },
  {
   "cell_type": "code",
   "execution_count": 8,
   "metadata": {},
   "outputs": [
    {
     "name": "stderr",
     "output_type": "stream",
     "text": [
      "  5%|▍         | 54/1141 [00:44<08:36,  2.10it/s] "
     ]
    }
   ],
   "source": [
    "# total_rows = len(dist_gdf.sample(10))\n",
    "total_rows = len(dist_gdf)\n",
    "result_df = pd.DataFrame()\n",
    "for row in tqdm(range(total_rows)):\n",
    "    # print(row)\n",
    "    row_gdf = dist_gdf.iloc[row : row + 1]\n",
    "    result, metadata = get_data_raster_shapefile(shp_gdf=row_gdf)\n",
    "    result_df = pd.concat((result_df, result))\n",
    "result_df"
   ]
  },
  {
   "cell_type": "code",
   "execution_count": 9,
   "metadata": {},
   "outputs": [],
   "source": [
    "result_df.to_csv(\"../output/population/pop.csv\")"
   ]
  }
 ],
 "metadata": {
  "kernelspec": {
   "display_name": "etiopia_outcomes-_zp3n1XV",
   "language": "python",
   "name": "python3"
  },
  "language_info": {
   "codemirror_mode": {
    "name": "ipython",
    "version": 3
   },
   "file_extension": ".py",
   "mimetype": "text/x-python",
   "name": "python",
   "nbconvert_exporter": "python",
   "pygments_lexer": "ipython3",
   "version": "3.10.9"
  }
 },
 "nbformat": 4,
 "nbformat_minor": 2
}
